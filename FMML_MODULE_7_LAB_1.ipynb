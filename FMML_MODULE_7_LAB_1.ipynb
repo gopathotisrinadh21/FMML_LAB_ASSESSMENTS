{
  "nbformat": 4,
  "nbformat_minor": 0,
  "metadata": {
    "colab": {
      "provenance": [],
      "include_colab_link": true
    },
    "kernelspec": {
      "name": "python3",
      "display_name": "Python 3"
    },
    "language_info": {
      "name": "python"
    }
  },
  "cells": [
    {
      "cell_type": "markdown",
      "metadata": {
        "id": "view-in-github",
        "colab_type": "text"
      },
      "source": [
        "<a href=\"https://colab.research.google.com/github/gopathotisrinadh21/FMML_LAB_ASSESSMENTS/blob/main/FMML_MODULE_7_LAB_1/K_MeansClustering.ipynb\" target=\"_parent\"><img src=\"https://colab.research.google.com/assets/colab-badge.svg\" alt=\"Open In Colab\"/></a>"
      ]
    },
    {
      "cell_type": "markdown",
      "metadata": {
        "id": "KSVIRwShuG11"
      },
      "source": [
        "Lab by Nikunj Nawal\n",
        "\n",
        "nikunj.nawal@research.iiit.ac.in"
      ]
    },
    {
      "cell_type": "markdown",
      "metadata": {
        "id": "XWsDgHdl5dOG"
      },
      "source": [
        "# K-Means\n",
        "\n",
        "K-Means algorithm is a centroid based clustering algorithm where the sum of distances of points from the centroid of each cluster is minimized. The final output is a set of K clusters .ie. the cluster assigned to each point and the K centroids of the clusters."
      ]
    },
    {
      "cell_type": "markdown",
      "metadata": {
        "id": "smmi2Hm_6dtJ"
      },
      "source": [
        "### The Algorithm\n",
        "> 1.   Initialize K centroids to K points randomly and set each point's initial cluster as the centroid closest to it.\n",
        "2.   While the clusers are changing - \\\\\n",
        "a. Assign the new centroids as the centroids of the points which have the same assigned cluster. \\\\\n",
        "b. Assign the new clusters to the points as the closest centroid.\n",
        "3. Return the assignments and the centroids.\n",
        "\n",
        "\n",
        "\n"
      ]
    },
    {
      "cell_type": "markdown",
      "metadata": {
        "id": "vQWLS_wq_WVt"
      },
      "source": [
        "### Part 1 - Implementation of KMeans and testing on Synthetic Datasets"
      ]
    },
    {
      "cell_type": "code",
      "metadata": {
        "id": "jYTNMyeL8rKH"
      },
      "source": [
        "# Importing necessary libraries\n",
        "\n",
        "import numpy as np\n",
        "import pandas as pd\n",
        "import matplotlib.pyplot as plt\n",
        "from sklearn.datasets import make_blobs"
      ],
      "execution_count": null,
      "outputs": []
    },
    {
      "cell_type": "code",
      "metadata": {
        "colab": {
          "base_uri": "https://localhost:8080/"
        },
        "id": "PGIO_edJ4uhB",
        "outputId": "16542d59-a2b6-448b-a91f-6408fceeca8b"
      },
      "source": [
        "# Generating Synthetic Data\n",
        "\n",
        "k=2\n",
        "color=[\"darkturquoise\",\"darkorange\",\"teal\",\"darkviolet\",\"tomato\", \"yellowgreen\",\"hotpink\",\"gold\"]\n",
        "\n",
        "X,_=make_blobs(n_samples=500, n_features=2, centers=k, random_state=10)\n",
        "print(\"Shape = \" + str(X.shape))\n",
        "\n",
        "print(\"Sample:\")\n",
        "print(X[:7])"
      ],
      "execution_count": null,
      "outputs": [
        {
          "output_type": "stream",
          "name": "stdout",
          "text": [
            "Shape = (500, 2)\n",
            "Sample:\n",
            "[[ 5.83801528 -9.29715058]\n",
            " [ 5.67102739 -9.76225984]\n",
            " [ 3.15598083  5.95298368]\n",
            " [ 3.87586762  5.94663718]\n",
            " [ 3.94478532  4.85652467]\n",
            " [ 2.82983681  4.85628288]\n",
            " [ 4.99059695 -9.04869246]]\n"
          ]
        }
      ]
    },
    {
      "cell_type": "markdown",
      "source": [
        "####Define all the functions & varibles needed to do clustering"
      ],
      "metadata": {
        "id": "WVLsu-efLqIk"
      }
    },
    {
      "cell_type": "code",
      "metadata": {
        "id": "GHfSomXy91rb"
      },
      "source": [
        "#Create an empty dictionary to store the cluster name, centroid and points associated with the cluster.\n",
        "clusters={}\n",
        "\n",
        "def initializeClusterCentroids():\n",
        "  #For each cluster, initialize its properties\n",
        "  for i in range(k):\n",
        "      center = np.random.randint(-8, 10, size= (X.shape[1],), )\n",
        "      points = []\n",
        "      \n",
        "      cluster = {\n",
        "          'center' : center,\n",
        "          'points' : points,\n",
        "          'color' : color[i]\n",
        "      }\n",
        "      clusters[i] = cluster #looping over clusters dictionary \n",
        "\n",
        "#Calculate euclidean distance between v1 and v2\n",
        "def distance(v1, v2):\n",
        "    return np.sum((v2-v1)**2)**0.5\n",
        "\n",
        "def assignPointsToCluster(clusters, X):\n",
        "    for ix in range(X.shape[0]):#iterate for all datapoints\n",
        "\n",
        "        #Foe each datapoint, find the distance to k centroids\n",
        "        distance_of_i = [] \n",
        "        for kx in range(k):\n",
        "            d = distance(X[ix], clusters[kx]['center']) #we have find distance b/w \n",
        "            #all the point with all the five (k) cluster centers\n",
        "            distance_of_i.append(d)\n",
        "          \n",
        "        #Based on the distances to k centroid, pick which cluster to assign it to\n",
        "        #here we want find the minimum distance of cluster centers\n",
        "        cluster_to_choose = np.argmin(distance_of_i)\n",
        "        clusters[cluster_to_choose]['points'].append(X[ix]) \n",
        "\n",
        "#STEP 3: UPDATE CLUSTER CENTROIDS\n",
        "def updateCluster(clusters):\n",
        "    for kx in range(k):\n",
        "        cluster_points = clusters[kx]['points']\n",
        "        \n",
        "        cluster_points = np.array(cluster_points)\n",
        "        #here pts are array of list but we want array of array so\n",
        "        \n",
        "        if len(cluster_points)>0:\n",
        "            new_center = np.mean(cluster_points, axis=0) #axis is along rows so will \n",
        "            #find mean of all the feature seprately it will give 2,0 when we have cluster pts 50,2\n",
        "            clusters[kx]['center'] = new_center\n",
        "            clusters[kx]['points'] = [] # clear the points in a cluster list (emptying pts)\n",
        "            #as we have to do step 2 after step 3 again till not converge"
      ],
      "execution_count": null,
      "outputs": []
    },
    {
      "cell_type": "code",
      "metadata": {
        "id": "H95Y7_Es-5pl"
      },
      "source": [
        "#We need to visualize this too. Lets define a function that can do that!\n",
        "def plotclusters(clusters, plot):\n",
        "    for kx in range(k):\n",
        "        cluster_points = clusters[kx]['points']\n",
        "        cluster_color = clusters[kx]['color']\n",
        "        cluster_center = clusters[kx]['center']\n",
        "        cluster_points = np.array(cluster_points)\n",
        "        \n",
        "        #plotting points associated /nearest to the cluster centers\n",
        "        if len(cluster_points) > 0:\n",
        "          plot.scatter(cluster_points[:, 0], cluster_points[:, 1], s = 2, c = cluster_color)\n",
        "        \n",
        "        plot.scatter(cluster_center[0], cluster_center[1], s = 250, c = cluster_color, marker=\"o\")"
      ],
      "execution_count": null,
      "outputs": []
    },
    {
      "cell_type": "markdown",
      "metadata": {
        "id": "jxdYCXL9_2Ol"
      },
      "source": [
        "We can now run and visualize how the clusters evolve."
      ]
    },
    {
      "cell_type": "code",
      "metadata": {
        "colab": {
          "base_uri": "https://localhost:8080/",
          "height": 435
        },
        "id": "gcTPXjLe-7nC",
        "outputId": "4063c861-2800-4080-8cff-8c4f162b969e"
      },
      "source": [
        "#Plotting the initial dataset\n",
        "fig, axs = plt.subplots(2, 3)\n",
        "fig.set_size_inches(15, 10)\n",
        "axs[0, 0].scatter(X[:,0],X[:,1], s = 2, c = 'black')\n",
        "axs[0, 0].set_title('Dataset')\n",
        "\n",
        "np.random.seed(1)\n",
        "initializeClusterCentroids()\n",
        "\n",
        "#Now, lets plot the centroids it has initalized\n",
        "axs[0, 1].set_title('Centroid Initialization')\n",
        "axs[0, 1].scatter(X[:, 0], X[:, 1], s = 2, c = 'black')\n",
        "for i in range(k):#for all the clusters\n",
        "    center = clusters[i]['center'] #its cluster's center\n",
        "    axs[0, 1].scatter(center[0], center[1], c=clusters[i]['color'], s=250, marker=\"o\")\n",
        "\n",
        "#CLUSTERING EPOCH 1\n",
        "axs[0, 2].set_title('Iteration 1')\n",
        "assignPointsToCluster(clusters, X)\n",
        "plotclusters(clusters, axs[0, 2])\n",
        "updateCluster(clusters)\n",
        "\n",
        "#CLUSTERING EPOCH 2\n",
        "axs[1, 0].set_title('Iteration 2')\n",
        "assignPointsToCluster(clusters, X)\n",
        "plotclusters(clusters, axs[1, 0])\n",
        "updateCluster(clusters)\n",
        "\n",
        "#CLUSTERING EPOCH 3\n",
        "axs[1, 1].set_title('Iteration 3')\n",
        "assignPointsToCluster(clusters, X)\n",
        "plotclusters(clusters, axs[1, 1])\n",
        "updateCluster(clusters)\n",
        "\n",
        "#CLUSTERING EPOCH 4\n",
        "axs[1, 2].set_title('Iteration 4')\n",
        "assignPointsToCluster(clusters, X)\n",
        "plotclusters(clusters, axs[1, 2])\n",
        "updateCluster(clusters)\n",
        "\n",
        "# Hide x labels and tick labels for top plots and y ticks for right plots.\n",
        "for ax in axs.flat:\n",
        "    ax.label_outer()"
      ],
      "execution_count": null,
      "outputs": [
        {
          "output_type": "display_data",
          "data": {
            "text/plain": [
              "<Figure size 1080x720 with 6 Axes>"
            ],
            "image/png": "[encoded data removed]"
          },
          "metadata": {
            "needs_background": "light"
          }
        }
      ]
    },
    {
      "cell_type": "markdown",
      "metadata": {
        "id": "HqWdqALtALKg"
      },
      "source": [
        "Let us now try the same thing with different number of clusters. We will also see how initialization matters."
      ]
    },
    {
      "cell_type": "code",
      "metadata": {
        "colab": {
          "base_uri": "https://localhost:8080/"
        },
        "id": "qDwkJxaP_BVA",
        "outputId": "c7d58037-a920-43f9-a7e3-88b172bc2455"
      },
      "source": [
        "# Generating Synthetic Data\n",
        "\n",
        "k=4\n",
        "color=[\"darkturquoise\",\"darkorange\",\"teal\",\"darkviolet\",\"tomato\", \"yellowgreen\",\"hotpink\",\"gold\"]\n",
        "\n",
        "X,_=make_blobs(n_samples=500, n_features=2, centers=k, random_state=10)\n",
        "print(\"Shape = \" + str(X.shape))\n",
        "\n",
        "print(\"Sample:\")\n",
        "print(X[:7])"
      ],
      "execution_count": null,
      "outputs": [
        {
          "output_type": "stream",
          "name": "stdout",
          "text": [
            "Shape = (500, 2)\n",
            "Sample:\n",
            "[[ -1.31898446  -6.47826668]\n",
            " [  3.87910747  -8.2401545 ]\n",
            " [ -0.49239887  -5.28550826]\n",
            " [ -1.11543839  -4.55232113]\n",
            " [  5.14041086 -10.44771931]\n",
            " [  6.55519802 -10.28277104]\n",
            " [  1.40404168  -6.43997659]]\n"
          ]
        }
      ]
    },
    {
      "cell_type": "code",
      "metadata": {
        "colab": {
          "base_uri": "https://localhost:8080/",
          "height": 435
        },
        "id": "2_HmX5BaAfjq",
        "outputId": "f21b9538-8e43-4066-d802-0db25f049b7c"
      },
      "source": [
        "#Plotting the initial dataset\n",
        "fig, axs = plt.subplots(2, 3)\n",
        "fig.set_size_inches(15, 10)\n",
        "axs[0, 0].scatter(X[:,0],X[:,1], s = 2, c = 'black')\n",
        "axs[0, 0].set_title('Dataset')\n",
        "\n",
        "## Change initialization here to 'np.random.seed(0)'\n",
        "np.random.seed(3)\n",
        "initializeClusterCentroids()\n",
        "\n",
        "#Now, lets plot the centroids it has initalized\n",
        "axs[0, 1].set_title('Centroid Initialization')\n",
        "axs[0, 1].scatter(X[:, 0], X[:, 1], s = 2, c = 'black')\n",
        "for i in range(k):#for all the clusters\n",
        "    center = clusters[i]['center'] #its cluster's center\n",
        "    axs[0, 1].scatter(center[0], center[1], c=clusters[i]['color'], s=250, marker=\"o\")\n",
        "\n",
        "#CLUSTERING EPOCH 1\n",
        "axs[0, 2].set_title('Iteration 1')\n",
        "assignPointsToCluster(clusters, X)\n",
        "plotclusters(clusters, axs[0, 2])\n",
        "updateCluster(clusters)\n",
        "\n",
        "#CLUSTERING EPOCH 2\n",
        "axs[1, 0].set_title('Iteration 2')\n",
        "assignPointsToCluster(clusters, X)\n",
        "plotclusters(clusters, axs[1, 0])\n",
        "updateCluster(clusters)\n",
        "\n",
        "#CLUSTERING EPOCH 3\n",
        "axs[1, 1].set_title('Iteration 3')\n",
        "assignPointsToCluster(clusters, X)\n",
        "plotclusters(clusters, axs[1, 1])\n",
        "updateCluster(clusters)\n",
        "\n",
        "#CLUSTERING EPOCH 4\n",
        "axs[1, 2].set_title('Iteration 4')\n",
        "assignPointsToCluster(clusters, X)\n",
        "plotclusters(clusters, axs[1, 2])\n",
        "updateCluster(clusters)\n",
        "\n",
        "# Hide x labels and tick labels for top plots and y ticks for right plots.\n",
        "for ax in axs.flat:\n",
        "    ax.label_outer()"
      ],
      "execution_count": null,
      "outputs": [
        {
          "output_type": "display_data",
          "data": {
            "text/plain": [
              "<Figure size 1080x720 with 6 Axes>"
            ],
            "image/png": "[encoded data removed]"
          },
          "metadata": {
            "needs_background": "light"
          }
        }
      ]
    },
    {
      "cell_type": "markdown",
      "metadata": {
        "id": "nlqe_wvnAyvp"
      },
      "source": [
        "**As you can see, changing the random seed and hence changing the initialization has a large effect on the performance of KMeans.** "
      ]
    },
    {
      "cell_type": "markdown",
      "metadata": {
        "id": "uVyJPKobClt8"
      },
      "source": [
        "Hence we can run our K-Means Algorithm by calling the following function with appropriate X (dataset)"
      ]
    },
    {
      "cell_type": "code",
      "metadata": {
        "id": "3PHM6J-lAg6E"
      },
      "source": [
        "from copy import deepcopy\n",
        "\n",
        "def run_kmeans(k, X):\n",
        "  initializeClusterCentroids()\n",
        "  assignPointsToCluster(clusters, X)\n",
        "  while (True):\n",
        "    prev_clusters = deepcopy(clusters)\n",
        "    updateCluster(clusters)\n",
        "    assignPointsToCluster(clusters, X)\n",
        "    if prev_clusters == clusters:\n",
        "      break\n",
        "  return clusters"
      ],
      "execution_count": null,
      "outputs": []
    },
    {
      "cell_type": "markdown",
      "metadata": {
        "id": "PUxLYV43D99i"
      },
      "source": [
        "### Kmeans in scikit-learn"
      ]
    },
    {
      "cell_type": "markdown",
      "metadata": {
        "id": "YVCkiXmdEcNg"
      },
      "source": [
        "Even though implementation of KMeans is easy, using libraries like sklearn allows our code to  be much simpler and faster. The next two cells show how to use it."
      ]
    },
    {
      "cell_type": "markdown",
      "metadata": {
        "id": "WT-WZDaikBD1"
      },
      "source": [
        "Check out all functionalities at https://scikit-learn.org/stable/modules/generated/sklearn.cluster.KMeans.html"
      ]
    },
    {
      "cell_type": "code",
      "source": [
        "# importing Kmeans from scikit-learn\n",
        "from sklearn.cluster import KMeans"
      ],
      "metadata": {
        "id": "6v60U4zKUODb"
      },
      "execution_count": null,
      "outputs": []
    },
    {
      "cell_type": "code",
      "metadata": {
        "colab": {
          "base_uri": "https://localhost:8080/"
        },
        "id": "hP0Isa2gD7n3",
        "outputId": "075a8e42-bda7-4d5d-c813-3af9bb96ec3b"
      },
      "source": [
        "kmeans_demo = KMeans(n_clusters=5) #random centroid intialization\n",
        "#kmeans_demo = KMeans() #What if we dont initialize the number of clusters?\n",
        "#kmeans_demo = KMeans(n_clusters=5, init='k-means++') #Does smart centroid initialization help?\n",
        "\n",
        "#Let us fit our synthetic datapoints into the kmeans object\n",
        "kmeans_demo.fit(X)"
      ],
      "execution_count": null,
      "outputs": [
        {
          "output_type": "execute_result",
          "data": {
            "text/plain": [
              "KMeans(n_clusters=5)"
            ]
          },
          "metadata": {},
          "execution_count": 43
        }
      ]
    },
    {
      "cell_type": "code",
      "metadata": {
        "colab": {
          "base_uri": "https://localhost:8080/",
          "height": 513
        },
        "id": "xHll4yqNFCSn",
        "outputId": "9fccd3eb-b41a-4409-98fe-eeac55eeb2ee"
      },
      "source": [
        "#Lets inspect the clustering model\n",
        "print(\"ITERATIONS TO CONVERGE = \" + str(kmeans_demo.n_iter_))\n",
        "print(\"CLUSTER CENTROIDS = \")\n",
        "print(str(kmeans_demo.cluster_centers_))\n",
        "print()\n",
        "\n",
        "#using the colours we defined for the clusters at the start\n",
        "colors_toplot = []\n",
        "for label in kmeans_demo.labels_:\n",
        "  colors_toplot.append(color[label])\n",
        "\n",
        "plt.scatter(X[:,0], X[:, 1], c = colors_toplot, s=2)\n",
        "plt.scatter(kmeans_demo.cluster_centers_[:,0], kmeans_demo.cluster_centers_[:,1], c = 'black', s=250, marker = \"o\")\n",
        "plt.gcf().set_size_inches(8,6)\n",
        "plt.show()"
      ],
      "execution_count": null,
      "outputs": [
        {
          "output_type": "stream",
          "name": "stdout",
          "text": [
            "ITERATIONS TO CONVERGE = 3\n",
            "CLUSTER CENTROIDS = \n",
            "[[-6.20071147  5.13256421]\n",
            " [ 5.49063417 -9.5824711 ]\n",
            " [ 1.99107983  5.36445584]\n",
            " [-0.06527291 -5.46786296]\n",
            " [ 3.43559617  4.5807193 ]]\n",
            "\n"
          ]
        },
        {
          "output_type": "display_data",
          "data": {
            "text/plain": [
              "<Figure size 576x432 with 1 Axes>"
            ],
            "image/png": "[encoded data removed]"
          },
          "metadata": {
            "needs_background": "light"
          }
        }
      ]
    },
    {
      "cell_type": "markdown",
      "metadata": {
        "id": "eBe2HWoNFWTO"
      },
      "source": [
        "### KMeans on Digits Dataset (KMeans for labelling)"
      ]
    },
    {
      "cell_type": "markdown",
      "metadata": {
        "id": "fhekZruK9KNr"
      },
      "source": [
        "Here we will attempt to use k-means to try to identify similar digits without using the original label information; this might be similar to a first step in extracting meaning from a new dataset about which you don't have any a priori label information."
      ]
    },
    {
      "cell_type": "code",
      "metadata": {
        "id": "L4yV9wx9FVun",
        "colab": {
          "base_uri": "https://localhost:8080/"
        },
        "outputId": "cb58ac58-8a4b-4671-b1af-521d784c851a"
      },
      "source": [
        "# importing the dataset\n",
        "from sklearn.datasets import load_digits\n",
        "\n",
        "digits = load_digits()\n",
        "digits.data.shape"
      ],
      "execution_count": null,
      "outputs": [
        {
          "output_type": "execute_result",
          "data": {
            "text/plain": [
              "(1797, 64)"
            ]
          },
          "metadata": {},
          "execution_count": 37
        }
      ]
    },
    {
      "cell_type": "code",
      "metadata": {
        "colab": {
          "base_uri": "https://localhost:8080/"
        },
        "id": "xUBgYLeN9Sa-",
        "outputId": "68d31326-7ce3-4339-bf9d-3c57f2fb6067"
      },
      "source": [
        "# importing Kmeans from scikit-learn\n",
        "from sklearn.cluster import KMeans\n",
        "\n",
        "# Perform KMeans\n",
        "kmeans = KMeans(n_clusters=10, random_state=0)\n",
        "clusters = kmeans.fit_predict(digits.data)\n",
        "kmeans.cluster_centers_.shape"
      ],
      "execution_count": null,
      "outputs": [
        {
          "output_type": "execute_result",
          "data": {
            "text/plain": [
              "(10, 64)"
            ]
          },
          "metadata": {},
          "execution_count": 45
        }
      ]
    },
    {
      "cell_type": "code",
      "metadata": {
        "colab": {
          "base_uri": "https://localhost:8080/",
          "height": 197
        },
        "id": "lSVbUHUi9n18",
        "outputId": "47f9711a-c8d8-4da4-8f90-2237ca272339"
      },
      "source": [
        "# We can now see how the centers of the clusters formed are\n",
        "\n",
        "fig, ax = plt.subplots(2, 5, figsize=(8, 3))\n",
        "centers = kmeans.cluster_centers_.reshape(10, 8, 8)\n",
        "for axi, center in zip(ax.flat, centers):\n",
        "    axi.set(xticks=[], yticks=[])\n",
        "    axi.imshow(center, interpolation='nearest', cmap=plt.cm.binary)"
      ],
      "execution_count": null,
      "outputs": [
        {
          "output_type": "display_data",
          "data": {
            "text/plain": [
              "<Figure size 576x216 with 10 Axes>"
            ],
            "image/png": "[encoded data removed]"
          },
          "metadata": {}
        }
      ]
    },
    {
      "cell_type": "markdown",
      "metadata": {
        "id": "iAMCCXBR-ARJ"
      },
      "source": [
        "Because k-means knows nothing about the identity of the cluster, the 0–9 labels may be permuted. We can fix this by matching each learned cluster label with the true labels found in them:"
      ]
    },
    {
      "cell_type": "code",
      "metadata": {
        "id": "_E4d3Jkc-BMY"
      },
      "source": [
        "from scipy.stats import mode\n",
        "\n",
        "labels = np.zeros_like(clusters)\n",
        "for i in range(10):\n",
        "    mask = (clusters == i)\n",
        "    labels[mask] = mode(digits.target[mask])[0]"
      ],
      "execution_count": null,
      "outputs": []
    },
    {
      "cell_type": "markdown",
      "metadata": {
        "id": "0c2izOVb-Ezq"
      },
      "source": [
        "Now we can check how accurate our unsupervised clustering was in finding similar digits within the data:"
      ]
    },
    {
      "cell_type": "code",
      "metadata": {
        "colab": {
          "base_uri": "https://localhost:8080/"
        },
        "id": "SZ2HJXhT-IJn",
        "outputId": "9f975bad-d62b-488e-94c6-f5fc8de776da"
      },
      "source": [
        "from sklearn.metrics import accuracy_score\n",
        "accuracy_score(digits.target, labels)"
      ],
      "execution_count": null,
      "outputs": [
        {
          "output_type": "execute_result",
          "data": {
            "text/plain": [
              "0.7935447968836951"
            ]
          },
          "metadata": {},
          "execution_count": 47
        }
      ]
    },
    {
      "cell_type": "markdown",
      "metadata": {
        "id": "dwjdViYU-QRE"
      },
      "source": [
        "**Hence clustering algorithms like KMeans are highly effective for identifying labels for groups apriori and even a simple KMeans acheives a ~80% accuracy on digit classification.**\n",
        "\n",
        "The confusion matrix for this looks like:"
      ]
    },
    {
      "cell_type": "code",
      "metadata": {
        "colab": {
          "base_uri": "https://localhost:8080/",
          "height": 285
        },
        "id": "1idrQbsg-OQZ",
        "outputId": "aa26153a-36f2-4346-9dfd-91060085eb3a"
      },
      "source": [
        "from sklearn.metrics import confusion_matrix\n",
        "import seaborn as sns; sns.set()\n",
        "\n",
        "mat = confusion_matrix(digits.target, labels)\n",
        "sns.heatmap(mat.T, square=True, annot=True, fmt='d', cbar=False,\n",
        "            xticklabels=digits.target_names,\n",
        "            yticklabels=digits.target_names)\n",
        "plt.xlabel('true label')\n",
        "plt.ylabel('predicted label');"
      ],
      "execution_count": null,
      "outputs": [
        {
          "output_type": "display_data",
          "data": {
            "text/plain": [
              "<Figure size 432x288 with 1 Axes>"
            ],
            "image/png": "[encoded data removed]"
          },
          "metadata": {}
        }
      ]
    },
    {
      "cell_type": "markdown",
      "metadata": {
        "id": "MV0GTurvFkji"
      },
      "source": [
        "### KMeans on Iris Dataset (Elbow Method)"
      ]
    },
    {
      "cell_type": "markdown",
      "metadata": {
        "id": "eNrXyKIjAp2L"
      },
      "source": [
        "We will perform KMeans on the famous Iris Dataset which has four features: sepal length, sepal width, petal length, and petal width. The fifth column is for species, which holds the value for these types of plants."
      ]
    },
    {
      "cell_type": "code",
      "metadata": {
        "id": "JOcJbmeaFFhF"
      },
      "source": [
        "#Importing the neccesary libraries\n",
        "import numpy as np\n",
        "import pandas as pd\n",
        "import matplotlib.pyplot as plt\n",
        "from sklearn.cluster import KMeans\n",
        "\n",
        "from sklearn import datasets\n",
        "import matplotlib.pyplot as plt"
      ],
      "execution_count": null,
      "outputs": []
    },
    {
      "cell_type": "code",
      "metadata": {
        "colab": {
          "base_uri": "https://localhost:8080/",
          "height": 206
        },
        "id": "wJWkYsYtA9Bi",
        "outputId": "42eadf01-9124-475b-9267-c56c664d489a"
      },
      "source": [
        "#import the dataset\n",
        "iris = datasets.load_iris()\n",
        "df = pd.DataFrame(iris.data, columns=['sepal_length', 'sepal_width', 'petal_length', 'petal_width'])\n",
        "x = df.iloc[:, [0,1,2,3]].values\n",
        "df.head(5)"
      ],
      "execution_count": null,
      "outputs": [
        {
          "output_type": "execute_result",
          "data": {
            "text/plain": [
              "   sepal_length  sepal_width  petal_length  petal_width\n",
              "0           5.1          3.5           1.4          0.2\n",
              "1           4.9          3.0           1.4          0.2\n",
              "2           4.7          3.2           1.3          0.2\n",
              "3           4.6          3.1           1.5          0.2\n",
              "4           5.0          3.6           1.4          0.2"
            ],
            "text/html": [
              "\n",
              "  <div id=\"df-7381fc01-b704-4bf0-817a-2ca4a92e4d91\">\n",
              "    <div class=\"colab-df-container\">\n",
              "      <div>\n",
              "<style scoped>\n",
              "    .dataframe tbody tr th:only-of-type {\n",
              "        vertical-align: middle;\n",
              "    }\n",
              "\n",
              "    .dataframe tbody tr th {\n",
              "        vertical-align: top;\n",
              "    }\n",
              "\n",
              "    .dataframe thead th {\n",
              "        text-align: right;\n",
              "    }\n",
              "</style>\n",
              "<table border=\"1\" class=\"dataframe\">\n",
              "  <thead>\n",
              "    <tr style=\"text-align: right;\">\n",
              "      <th></th>\n",
              "      <th>sepal_length</th>\n",
              "      <th>sepal_width</th>\n",
              "      <th>petal_length</th>\n",
              "      <th>petal_width</th>\n",
              "    </tr>\n",
              "  </thead>\n",
              "  <tbody>\n",
              "    <tr>\n",
              "      <th>0</th>\n",
              "      <td>5.1</td>\n",
              "      <td>3.5</td>\n",
              "      <td>1.4</td>\n",
              "      <td>0.2</td>\n",
              "    </tr>\n",
              "    <tr>\n",
              "      <th>1</th>\n",
              "      <td>4.9</td>\n",
              "      <td>3.0</td>\n",
              "      <td>1.4</td>\n",
              "      <td>0.2</td>\n",
              "    </tr>\n",
              "    <tr>\n",
              "      <th>2</th>\n",
              "      <td>4.7</td>\n",
              "      <td>3.2</td>\n",
              "      <td>1.3</td>\n",
              "      <td>0.2</td>\n",
              "    </tr>\n",
              "    <tr>\n",
              "      <th>3</th>\n",
              "      <td>4.6</td>\n",
              "      <td>3.1</td>\n",
              "      <td>1.5</td>\n",
              "      <td>0.2</td>\n",
              "    </tr>\n",
              "    <tr>\n",
              "      <th>4</th>\n",
              "      <td>5.0</td>\n",
              "      <td>3.6</td>\n",
              "      <td>1.4</td>\n",
              "      <td>0.2</td>\n",
              "    </tr>\n",
              "  </tbody>\n",
              "</table>\n",
              "</div>\n",
              "      <button class=\"colab-df-convert\" onclick=\"convertToInteractive('df-7381fc01-b704-4bf0-817a-2ca4a92e4d91')\"\n",
              "              title=\"Convert this dataframe to an interactive table.\"\n",
              "              style=\"display:none;\">\n",
              "        \n",
              "  <svg xmlns=\"http://www.w3.org/2000/svg\" height=\"24px\"viewBox=\"0 0 24 24\"\n",
              "       width=\"24px\">\n",
              "    <path d=\"M0 0h24v24H0V0z\" fill=\"none\"/>\n",
              "    <path d=\"M18.56 5.44l.94 2.06.94-2.06 2.06-.94-2.06-.94-.94-2.06-.94 2.06-2.06.94zm-11 1L8.5 8.5l.94-2.06 2.06-.94-2.06-.94L8.5 2.5l-.94 2.06-2.06.94zm10 10l.94 2.06.94-2.06 2.06-.94-2.06-.94-.94-2.06-.94 2.06-2.06.94z\"/><path d=\"M17.41 7.96l-1.37-1.37c-.4-.4-.92-.59-1.43-.59-.52 0-1.04.2-1.43.59L10.3 9.45l-7.72 7.72c-.78.78-.78 2.05 0 2.83L4 21.41c.39.39.9.59 1.41.59.51 0 1.02-.2 1.41-.59l7.78-7.78 2.81-2.81c.8-.78.8-2.07 0-2.86zM5.41 20L4 18.59l7.72-7.72 1.47 1.35L5.41 20z\"/>\n",
              "  </svg>\n",
              "      </button>\n",
              "      \n",
              "  <style>\n",
              "    .colab-df-container {\n",
              "      display:flex;\n",
              "      flex-wrap:wrap;\n",
              "      gap: 12px;\n",
              "    }\n",
              "\n",
              "    .colab-df-convert {\n",
              "      background-color: #E8F0FE;\n",
              "      border: none;\n",
              "      border-radius: 50%;\n",
              "      cursor: pointer;\n",
              "      display: none;\n",
              "      fill: #1967D2;\n",
              "      height: 32px;\n",
              "      padding: 0 0 0 0;\n",
              "      width: 32px;\n",
              "    }\n",
              "\n",
              "    .colab-df-convert:hover {\n",
              "      background-color: #E2EBFA;\n",
              "      box-shadow: 0px 1px 2px rgba(60, 64, 67, 0.3), 0px 1px 3px 1px rgba(60, 64, 67, 0.15);\n",
              "      fill: #174EA6;\n",
              "    }\n",
              "\n",
              "    [theme=dark] .colab-df-convert {\n",
              "      background-color: #3B4455;\n",
              "      fill: #D2E3FC;\n",
              "    }\n",
              "\n",
              "    [theme=dark] .colab-df-convert:hover {\n",
              "      background-color: #434B5C;\n",
              "      box-shadow: 0px 1px 3px 1px rgba(0, 0, 0, 0.15);\n",
              "      filter: drop-shadow(0px 1px 2px rgba(0, 0, 0, 0.3));\n",
              "      fill: #FFFFFF;\n",
              "    }\n",
              "  </style>\n",
              "\n",
              "      <script>\n",
              "        const buttonEl =\n",
              "          document.querySelector('#df-7381fc01-b704-4bf0-817a-2ca4a92e4d91 button.colab-df-convert');\n",
              "        buttonEl.style.display =\n",
              "          google.colab.kernel.accessAllowed ? 'block' : 'none';\n",
              "\n",
              "        async function convertToInteractive(key) {\n",
              "          const element = document.querySelector('#df-7381fc01-b704-4bf0-817a-2ca4a92e4d91');\n",
              "          const dataTable =\n",
              "            await google.colab.kernel.invokeFunction('convertToInteractive',\n",
              "                                                     [key], {});\n",
              "          if (!dataTable) return;\n",
              "\n",
              "          const docLinkHtml = 'Like what you see? Visit the ' +\n",
              "            '<a target=\"_blank\" href=https://colab.research.google.com/notebooks/data_table.ipynb>data table notebook</a>'\n",
              "            + ' to learn more about interactive tables.';\n",
              "          element.innerHTML = '';\n",
              "          dataTable['output_type'] = 'display_data';\n",
              "          await google.colab.output.renderOutput(dataTable, element);\n",
              "          const docLink = document.createElement('div');\n",
              "          docLink.innerHTML = docLinkHtml;\n",
              "          element.appendChild(docLink);\n",
              "        }\n",
              "      </script>\n",
              "    </div>\n",
              "  </div>\n",
              "  "
            ]
          },
          "metadata": {},
          "execution_count": 50
        }
      ]
    },
    {
      "cell_type": "markdown",
      "metadata": {
        "id": "ZQAJZu30D9yx"
      },
      "source": [
        "Let us start with assigning the initial number of clusters as k=5."
      ]
    },
    {
      "cell_type": "code",
      "metadata": {
        "colab": {
          "base_uri": "https://localhost:8080/"
        },
        "id": "zZKt6zzmD1e6",
        "outputId": "2fa4595d-34f4-4605-9afa-4fb7e649020c"
      },
      "source": [
        "kmeans5 = KMeans(n_clusters=5)\n",
        "y_kmeans5 = kmeans5.fit_predict(x)\n",
        "print(y_kmeans5)\n",
        "\n",
        "kmeans5.cluster_centers_"
      ],
      "execution_count": null,
      "outputs": [
        {
          "output_type": "stream",
          "name": "stdout",
          "text": [
            "[1 1 1 1 1 1 1 1 1 1 1 1 1 1 1 1 1 1 1 1 1 1 1 1 1 1 1 1 1 1 1 1 1 1 1 1 1\n",
            " 1 1 1 1 1 1 1 1 1 1 1 1 1 0 0 0 3 0 0 0 3 0 3 3 0 3 0 3 0 0 3 0 3 0 3 0 0\n",
            " 0 0 0 0 0 3 3 3 3 0 3 0 0 0 3 3 3 0 3 3 3 3 3 0 3 3 4 0 2 4 4 2 3 2 4 2 4\n",
            " 4 4 0 4 4 4 2 2 0 4 0 2 0 4 2 0 0 4 2 2 2 4 0 0 2 4 4 0 4 4 4 0 4 4 4 0 4\n",
            " 4 0]\n"
          ]
        },
        {
          "output_type": "execute_result",
          "data": {
            "text/plain": [
              "array([[6.20769231, 2.85384615, 4.74615385, 1.56410256],\n",
              "       [5.006     , 3.428     , 1.462     , 0.246     ],\n",
              "       [7.475     , 3.125     , 6.3       , 2.05      ],\n",
              "       [5.508     , 2.6       , 3.908     , 1.204     ],\n",
              "       [6.52916667, 3.05833333, 5.50833333, 2.1625    ]])"
            ]
          },
          "metadata": {},
          "execution_count": 51
        }
      ]
    },
    {
      "cell_type": "markdown",
      "metadata": {
        "id": "xL3AAUdCEGsA"
      },
      "source": [
        "How do we choose the optimal number of clusters? There’s a method called the Elbow method, which is designed to help find the optimal number of clusters in a dataset. So let’s use this method to calculate the optimum value of k. To implement the Elbow method, we need to create some Python code (shown below), and we’ll plot a graph between the number of clusters and the corresponding error value.\n",
        "\n",
        "This graph generally ends up shaped like an elbow, hence its name:"
      ]
    },
    {
      "cell_type": "code",
      "metadata": {
        "colab": {
          "base_uri": "https://localhost:8080/",
          "height": 295
        },
        "id": "8VSBRjiLEQ7V",
        "outputId": "82d3732f-7670-422f-f9ea-85ced83edf13"
      },
      "source": [
        "Error =[]\n",
        "for i in range(1, 11):\n",
        "    kmeans = KMeans(n_clusters = i).fit(x)\n",
        "    kmeans.fit(x)\n",
        "    Error.append(kmeans.inertia_)\n",
        "    \n",
        "plt.plot(range(1, 11), Error)\n",
        "plt.title('Elbow method')\n",
        "plt.xlabel('No of clusters')\n",
        "plt.ylabel('Error')\n",
        "plt.show()"
      ],
      "execution_count": null,
      "outputs": [
        {
          "output_type": "display_data",
          "data": {
            "text/plain": [
              "<Figure size 432x288 with 1 Axes>"
            ],
            "image/png": "[encoded data removed]"
          },
          "metadata": {
            "needs_background": "light"
          }
        }
      ]
    },
    {
      "cell_type": "markdown",
      "metadata": {
        "id": "vEhXXxe6Em4E"
      },
      "source": [
        "The output graph of the Elbow method shows that the shape of elbow is approximately formed at k=3. The optimal value of k is between 2 and 4, as the elbow-like shape is formed at k=3 in the above graph."
      ]
    },
    {
      "cell_type": "code",
      "metadata": {
        "colab": {
          "base_uri": "https://localhost:8080/"
        },
        "id": "GTpdV03VE79J",
        "outputId": "5bd81f78-c6d4-4ad4-9618-a1a600c29184"
      },
      "source": [
        "kmeans3 = KMeans(n_clusters=3)\n",
        "y_kmeans3 = kmeans3.fit_predict(x)\n",
        "print(y_kmeans3)\n",
        "\n",
        "kmeans3.cluster_centers_"
      ],
      "execution_count": null,
      "outputs": [
        {
          "output_type": "stream",
          "name": "stdout",
          "text": [
            "[1 1 1 1 1 1 1 1 1 1 1 1 1 1 1 1 1 1 1 1 1 1 1 1 1 1 1 1 1 1 1 1 1 1 1 1 1\n",
            " 1 1 1 1 1 1 1 1 1 1 1 1 1 0 0 2 0 0 0 0 0 0 0 0 0 0 0 0 0 0 0 0 0 0 0 0 0\n",
            " 0 0 0 2 0 0 0 0 0 0 0 0 0 0 0 0 0 0 0 0 0 0 0 0 0 0 2 0 2 2 2 2 0 2 2 2 2\n",
            " 2 2 0 0 2 2 2 2 0 2 0 2 0 2 2 0 0 2 2 2 2 2 0 2 2 2 2 0 2 2 2 0 2 2 2 0 2\n",
            " 2 0]\n"
          ]
        },
        {
          "output_type": "execute_result",
          "data": {
            "text/plain": [
              "array([[5.9016129 , 2.7483871 , 4.39354839, 1.43387097],\n",
              "       [5.006     , 3.428     , 1.462     , 0.246     ],\n",
              "       [6.85      , 3.07368421, 5.74210526, 2.07105263]])"
            ]
          },
          "metadata": {},
          "execution_count": 35
        }
      ]
    },
    {
      "cell_type": "markdown",
      "metadata": {
        "id": "3_wPmjOSFP5y"
      },
      "source": [
        "We can now visualize the clustering in two dimensions instead of the original four."
      ]
    },
    {
      "cell_type": "code",
      "metadata": {
        "colab": {
          "base_uri": "https://localhost:8080/",
          "height": 285
        },
        "id": "GOPhGuicFBkV",
        "outputId": "75ab1284-fae6-4967-a357-489848c13d47"
      },
      "source": [
        "plt.scatter(x[:,0], x[:,1], c=y_kmeans3, cmap='rainbow')"
      ],
      "execution_count": null,
      "outputs": [
        {
          "output_type": "execute_result",
          "data": {
            "text/plain": [
              "<matplotlib.collections.PathCollection at 0x7f2c46500210>"
            ]
          },
          "metadata": {},
          "execution_count": 36
        },
        {
          "output_type": "display_data",
          "data": {
            "text/plain": [
              "<Figure size 432x288 with 1 Axes>"
            ],
            "image/png": "[encoded data removed]"
          },
          "metadata": {
            "needs_background": "light"
          }
        }
      ]
    },
    {
      "cell_type": "markdown",
      "metadata": {
        "id": "WJz6aYt6RRRl"
      },
      "source": [
        "## Points to think about"
      ]
    },
    {
      "cell_type": "markdown",
      "metadata": {
        "id": "BFLzASTIRaNc"
      },
      "source": [
        "1. Is feature scaling essential for KMeans as it is for most ML algos?\n",
        "2. How can we prevent initialization variation in KMeans?\n",
        "3. What is the training and testing complexity of KMeans?"
      ]
    },
    {
      "cell_type": "markdown",
      "source": [
        "**Answer-1** :: unscaled data can adversely impact a model’s ability to make accurate predictions Yes, in general, attribute scaling is important to be applied with K-means.To make sure that your calculations will not be biased either to the very high or to the very low values. In other words, to make sure that all your data are at the same level. you could use any normalization technique to do this.\n",
        "\n",
        "Algorithms like k-nearest neighbours,k-means clustering use the distance between data points to determine their similarity. Hence, features with a greater magnitude will be assigned a higher weightage by the model. This is not an ideal scenario as we do not want our model to be heavily biased towards a single feature.\n",
        "\n",
        "Evidently, it is crucial that we implement feature scaling to our data before fitting them to distance-based algorithms like kMeans to ensure that all features contribute equally to the result of the predictions.\n",
        "\n",
        "**Answer-2** :: There are two ways to avoid the problem of initialization sensitivity:\n",
        "\n",
        "Repeat K means: It basically repeats the algorithm again and again along with initializing the centroids followed by picking up the cluster which results in the small intracluster distance and large intercluster distance.\n",
        "K Means++: It is a smart centroid initialization technique.\n",
        "Amongst the above two techniques, K-Means++ is the best approach.\n",
        "\n",
        "\n",
        "**Answer-3**  :: Training complexity in terms of Big-O notation:\n",
        "\n",
        "If we use Lloyd’s algorithm, the complexity for training is: “K*I*N*M”\n",
        "\n",
        "where,\n",
        "\n",
        "K: It represents the number of clusters\n",
        "\n",
        "I: It represents the number of iterations\n",
        "\n",
        "N: It represents the sample size\n",
        "\n",
        "M: It represents the number of variables\n",
        "\n",
        "Conclusion: There is a significant Impact on capping the number of iterations.\n",
        "\n",
        "Predicting complexity in terms of Big-O notation:\n",
        "\n",
        "“K*N*M”\n",
        "\n",
        "Prediction needs to be computed for each record, the distance to each cluster and assigned to the nearest ones."
      ],
      "metadata": {
        "id": "lWQMcGrkuh80"
      }
    },
    {
      "cell_type": "markdown",
      "metadata": {
        "id": "uZrTx2nHSSZn"
      },
      "source": [
        "## References and resources\n",
        "\n",
        "1. https://towardsdatascience.com/k-means-clustering-algorithm-applications-evaluation-methods-and-drawbacks-aa03e644b48a\n",
        "2. https://www.analyticsvidhya.com/blog/2019/08/comprehensive-guide-k-means-clustering/\n",
        "3. https://en.wikipedia.org/wiki/K-means_clustering\n",
        "4. https://jakevdp.github.io/PythonDataScienceHandbook/05.11-k-means.html\n",
        "5. https://heartbeat.fritz.ai/k-means-clustering-using-sklearn-and-python-4a054d67b187\n",
        "6. https://www.geeksforgeeks.org/k-means-clustering-introduction/\n"
      ]
    },
    {
      "cell_type": "code",
      "source": [],
      "metadata": {
        "id": "az5_vhJnWLzS"
      },
      "execution_count": null,
      "outputs": []
    }
  ]
}
